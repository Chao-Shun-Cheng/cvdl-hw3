{
 "cells": [
  {
   "cell_type": "code",
   "execution_count": 1,
   "metadata": {},
   "outputs": [
    {
     "name": "stderr",
     "output_type": "stream",
     "text": [
      "\n",
      "Bad key \"text.kerning_factor\" on line 4 in\n",
      "C:\\Users\\mec-lab\\Anaconda3\\envs\\image_processing_hw1_5\\lib\\site-packages\\matplotlib\\mpl-data\\stylelib\\_classic_test_patch.mplstyle.\n",
      "You probably need to get an updated matplotlibrc file from\n",
      "http://github.com/matplotlib/matplotlib/blob/master/matplotlibrc.template\n",
      "or from the matplotlib source distribution\n"
     ]
    }
   ],
   "source": [
    "import torch\n",
    "import torchvision\n",
    "import torch.nn as nn\n",
    "import torch.nn.functional as F\n",
    "import torchvision.transforms as transforms\n",
    "import torchvision.models as models\n",
    "import torch.optim as optim\n",
    "import matplotlib.pyplot as plt\n",
    "import numpy as np"
   ]
  },
  {
   "cell_type": "code",
   "execution_count": 64,
   "metadata": {},
   "outputs": [
    {
     "name": "stdout",
     "output_type": "stream",
     "text": [
      "cuda:0\n"
     ]
    }
   ],
   "source": [
    "device = torch.device(\"cuda:0\" if torch.cuda.is_available() else \"cpu\")\n",
    "\n",
    "# Assuming that we are on a CUDA machine, this should print a CUDA device:\n",
    "\n",
    "print(device)"
   ]
  },
  {
   "cell_type": "code",
   "execution_count": 65,
   "metadata": {},
   "outputs": [
    {
     "name": "stdout",
     "output_type": "stream",
     "text": [
      "Files already downloaded and verified\n",
      "Files already downloaded and verified\n"
     ]
    }
   ],
   "source": [
    "transform = transforms.Compose(\n",
    "    [transforms.ToTensor(),\n",
    "     transforms.Normalize((0.5, 0.5, 0.5), (0.5, 0.5, 0.5))])\n",
    "\n",
    "trainset = torchvision.datasets.CIFAR10(root='./data', train=True,\n",
    "                                        download=True, transform=transform)\n",
    "trainloader = torch.utils.data.DataLoader(trainset, batch_size=8,\n",
    "                                          shuffle=True, num_workers=2)\n",
    "\n",
    "testset = torchvision.datasets.CIFAR10(root='./data', train=False,\n",
    "                                       download=True, transform=transform)\n",
    "testloader = torch.utils.data.DataLoader(testset, batch_size=8,\n",
    "                                         shuffle=False, num_workers=2)\n",
    "\n",
    "classes = ('plane', 'car', 'bird', 'cat',\n",
    "           'deer', 'dog', 'frog', 'horse', 'ship', 'truck')"
   ]
  },
  {
   "cell_type": "code",
   "execution_count": 66,
   "metadata": {},
   "outputs": [
    {
     "name": "stdout",
     "output_type": "stream",
     "text": [
      "Sequential(\n",
      "  (0): Sequential(\n",
      "    (0): Conv2d(3, 64, kernel_size=(3, 3), stride=(1, 1), padding=(1, 1))\n",
      "    (1): ReLU(inplace=True)\n",
      "    (2): Conv2d(64, 64, kernel_size=(3, 3), stride=(1, 1), padding=(1, 1))\n",
      "    (3): ReLU(inplace=True)\n",
      "    (4): MaxPool2d(kernel_size=2, stride=2, padding=0, dilation=1, ceil_mode=False)\n",
      "    (5): Conv2d(64, 128, kernel_size=(3, 3), stride=(1, 1), padding=(1, 1))\n",
      "    (6): ReLU(inplace=True)\n",
      "    (7): Conv2d(128, 128, kernel_size=(3, 3), stride=(1, 1), padding=(1, 1))\n",
      "    (8): ReLU(inplace=True)\n",
      "    (9): MaxPool2d(kernel_size=2, stride=2, padding=0, dilation=1, ceil_mode=False)\n",
      "    (10): Conv2d(128, 256, kernel_size=(3, 3), stride=(1, 1), padding=(1, 1))\n",
      "    (11): ReLU(inplace=True)\n",
      "    (12): Conv2d(256, 256, kernel_size=(3, 3), stride=(1, 1), padding=(1, 1))\n",
      "    (13): ReLU(inplace=True)\n",
      "    (14): Conv2d(256, 256, kernel_size=(3, 3), stride=(1, 1), padding=(1, 1))\n",
      "    (15): ReLU(inplace=True)\n",
      "    (16): MaxPool2d(kernel_size=2, stride=2, padding=0, dilation=1, ceil_mode=False)\n",
      "    (17): Conv2d(256, 512, kernel_size=(3, 3), stride=(1, 1), padding=(1, 1))\n",
      "    (18): ReLU(inplace=True)\n",
      "    (19): Conv2d(512, 512, kernel_size=(3, 3), stride=(1, 1), padding=(1, 1))\n",
      "    (20): ReLU(inplace=True)\n",
      "    (21): Conv2d(512, 512, kernel_size=(3, 3), stride=(1, 1), padding=(1, 1))\n",
      "    (22): ReLU(inplace=True)\n",
      "    (23): MaxPool2d(kernel_size=2, stride=2, padding=0, dilation=1, ceil_mode=False)\n",
      "    (24): Conv2d(512, 512, kernel_size=(3, 3), stride=(1, 1), padding=(1, 1))\n",
      "    (25): ReLU(inplace=True)\n",
      "    (26): Conv2d(512, 512, kernel_size=(3, 3), stride=(1, 1), padding=(1, 1))\n",
      "    (27): ReLU(inplace=True)\n",
      "    (28): Conv2d(512, 512, kernel_size=(3, 3), stride=(1, 1), padding=(1, 1))\n",
      "    (29): ReLU(inplace=True)\n",
      "    (30): MaxPool2d(kernel_size=2, stride=2, padding=0, dilation=1, ceil_mode=False)\n",
      "  )\n",
      "  (1): AdaptiveAvgPool2d(output_size=(7, 7))\n",
      "  (2): Sequential(\n",
      "    (0): Linear(in_features=25088, out_features=4096, bias=True)\n",
      "    (1): ReLU(inplace=True)\n",
      "    (2): Dropout(p=0.5, inplace=False)\n",
      "    (3): Linear(in_features=4096, out_features=4096, bias=True)\n",
      "    (4): ReLU(inplace=True)\n",
      "    (5): Dropout(p=0.5, inplace=False)\n",
      "    (6): Linear(in_features=4096, out_features=10, bias=True)\n",
      "  )\n",
      ")\n"
     ]
    }
   ],
   "source": [
    "net = models.vgg16(pretrained=False)\n",
    "net.classifier._modules['6'] = nn.Linear(4096, 10)\n",
    "feature = torch.nn.Sequential(*list(net.children())[:])\n",
    "net.to(device)\n",
    "print(feature)"
   ]
  },
  {
   "cell_type": "code",
   "execution_count": 67,
   "metadata": {},
   "outputs": [],
   "source": [
    "criterion = nn.CrossEntropyLoss()\n",
    "optimizer = optim.SGD(net.parameters(), lr=0.001, momentum=0.9)"
   ]
  },
  {
   "cell_type": "code",
   "execution_count": 69,
   "metadata": {},
   "outputs": [
    {
     "name": "stdout",
     "output_type": "stream",
     "text": [
      "[1,  6250] loss: 1.840\n",
      "Accuracy of the network on the 10000 test images: 46 %\n",
      "Accuracy of the network on the 50000 train images: 46 %\n",
      "[2,  6250] loss: 1.271\n",
      "Accuracy of the network on the 10000 test images: 60 %\n",
      "Accuracy of the network on the 50000 train images: 62 %\n",
      "[3,  6250] loss: 0.979\n",
      "Accuracy of the network on the 10000 test images: 65 %\n",
      "Accuracy of the network on the 50000 train images: 68 %\n",
      "[4,  6250] loss: 0.790\n",
      "Accuracy of the network on the 10000 test images: 73 %\n",
      "Accuracy of the network on the 50000 train images: 77 %\n",
      "[5,  6250] loss: 0.653\n",
      "Accuracy of the network on the 10000 test images: 75 %\n",
      "Accuracy of the network on the 50000 train images: 82 %\n",
      "[6,  6250] loss: 0.541\n",
      "Accuracy of the network on the 10000 test images: 75 %\n",
      "Accuracy of the network on the 50000 train images: 83 %\n",
      "[7,  6250] loss: 0.447\n",
      "Accuracy of the network on the 10000 test images: 78 %\n",
      "Accuracy of the network on the 50000 train images: 88 %\n",
      "[8,  6250] loss: 0.370\n",
      "Accuracy of the network on the 10000 test images: 77 %\n",
      "Accuracy of the network on the 50000 train images: 90 %\n",
      "[9,  6250] loss: 0.304\n",
      "Accuracy of the network on the 10000 test images: 79 %\n",
      "Accuracy of the network on the 50000 train images: 92 %\n",
      "[10,  6250] loss: 0.257\n",
      "Accuracy of the network on the 10000 test images: 79 %\n",
      "Accuracy of the network on the 50000 train images: 94 %\n",
      "[11,  6250] loss: 0.212\n",
      "Accuracy of the network on the 10000 test images: 80 %\n",
      "Accuracy of the network on the 50000 train images: 95 %\n",
      "[12,  6250] loss: 0.174\n",
      "Accuracy of the network on the 10000 test images: 80 %\n",
      "Accuracy of the network on the 50000 train images: 96 %\n",
      "[13,  6250] loss: 0.149\n",
      "Accuracy of the network on the 10000 test images: 80 %\n",
      "Accuracy of the network on the 50000 train images: 97 %\n",
      "[14,  6250] loss: 0.124\n",
      "Accuracy of the network on the 10000 test images: 79 %\n",
      "Accuracy of the network on the 50000 train images: 97 %\n",
      "[15,  6250] loss: 0.111\n",
      "Accuracy of the network on the 10000 test images: 80 %\n",
      "Accuracy of the network on the 50000 train images: 97 %\n",
      "[16,  6250] loss: 0.090\n",
      "Accuracy of the network on the 10000 test images: 79 %\n",
      "Accuracy of the network on the 50000 train images: 97 %\n",
      "[17,  6250] loss: 0.084\n",
      "Accuracy of the network on the 10000 test images: 80 %\n",
      "Accuracy of the network on the 50000 train images: 97 %\n",
      "[18,  6250] loss: 0.070\n",
      "Accuracy of the network on the 10000 test images: 80 %\n",
      "Accuracy of the network on the 50000 train images: 98 %\n",
      "[19,  6250] loss: 0.061\n",
      "Accuracy of the network on the 10000 test images: 81 %\n",
      "Accuracy of the network on the 50000 train images: 98 %\n",
      "[20,  6250] loss: 0.052\n",
      "Accuracy of the network on the 10000 test images: 80 %\n",
      "Accuracy of the network on the 50000 train images: 98 %\n",
      "Finished Training\n"
     ]
    }
   ],
   "source": [
    "loss_history= []\n",
    "train_acc = []\n",
    "test_acc = []\n",
    "for epoch in range(20):  # loop over the dataset multiple times\n",
    "\n",
    "    running_loss = 0.0\n",
    "    for i, data in enumerate(trainloader, 0):\n",
    "        # get the inputs; data is a list of [inputs, labels]\n",
    "        inputs, labels = data[0].to(device), data[1].to(device)\n",
    "\n",
    "        # zero the parameter gradients\n",
    "        optimizer.zero_grad()\n",
    "\n",
    "        # forward + backward + optimize\n",
    "        outputs = net(inputs)\n",
    "        loss = criterion(outputs, labels)\n",
    "        loss.backward()\n",
    "        optimizer.step()\n",
    "\n",
    "        # print statistics\n",
    "        running_loss += loss.item()\n",
    "    loss_history.append(running_loss / 6250)    \n",
    "    print('[%d, %5d] loss: %.3f' %\n",
    "                 (epoch + 1, i + 1, running_loss / 6250))\n",
    "    running_loss = 0.0\n",
    "    \n",
    "    correct = 0\n",
    "    total = 0\n",
    "    with torch.no_grad():\n",
    "        for data in testloader:\n",
    "            images, labels = data[0].to(device), data[1].to(device)\n",
    "            outputs = net(images)\n",
    "            _, predicted = torch.max(outputs.data, 1)\n",
    "            total += labels.size(0)\n",
    "            correct += (predicted == labels).sum().item()\n",
    "\n",
    "    print('Accuracy of the network on the 10000 test images: %d %%' % (\n",
    "        100 * correct / total))\n",
    "    test_acc.append(correct / total) \n",
    "    \n",
    "    correct = 0\n",
    "    total = 0\n",
    "    with torch.no_grad():\n",
    "        for data in trainloader:\n",
    "            images, labels = data[0].to(device), data[1].to(device)\n",
    "            outputs = net(images)\n",
    "            _, predicted = torch.max(outputs.data, 1)\n",
    "            total += labels.size(0)\n",
    "            correct += (predicted == labels).sum().item()\n",
    "\n",
    "    print('Accuracy of the network on the 50000 train images: %d %%' % (\n",
    "        100 * correct / total))\n",
    "    train_acc.append(correct / total) \n",
    "\n",
    "print('Finished Training')"
   ]
  },
  {
   "cell_type": "code",
   "execution_count": 70,
   "metadata": {},
   "outputs": [],
   "source": [
    "PATH = './cifar_net.pth'\n",
    "torch.save(net.state_dict(), PATH)"
   ]
  },
  {
   "cell_type": "code",
   "execution_count": 75,
   "metadata": {},
   "outputs": [
    {
     "data": {
      "text/plain": [
       "<matplotlib.legend.Legend at 0x266003b5780>"
      ]
     },
     "execution_count": 75,
     "metadata": {},
     "output_type": "execute_result"
    },
    {
     "data": {
      "image/png": "[encoded data removed]",
      "text/plain": [
       "<Figure size 432x288 with 1 Axes>"
      ]
     },
     "metadata": {
      "needs_background": "light"
     },
     "output_type": "display_data"
    }
   ],
   "source": [
    "#Model Loss\n",
    "x = []\n",
    "for i in range(20):\n",
    "    x.append(i)\n",
    "plt.title(\"Model Loss\") \n",
    "plt.xlabel(\"Epoch\") \n",
    "plt.ylabel(\"Loss\")\n",
    "plt.plot(x,loss_history,'-',color='red',label='Train')\n",
    "plt.legend(loc='upper left', shadow=True)"
   ]
  },
  {
   "cell_type": "code",
   "execution_count": 76,
   "metadata": {},
   "outputs": [
    {
     "data": {
      "text/plain": [
       "<matplotlib.legend.Legend at 0x266004802e8>"
      ]
     },
     "execution_count": 76,
     "metadata": {},
     "output_type": "execute_result"
    },
    {
     "data": {
      "image/png": "[encoded data removed]",
      "text/plain": [
       "<Figure size 432x288 with 1 Axes>"
      ]
     },
     "metadata": {
      "needs_background": "light"
     },
     "output_type": "display_data"
    }
   ],
   "source": [
    "#Model accuracy\n",
    "x = []\n",
    "for i in range(20):\n",
    "    x.append(i)\n",
    "plt.title(\"Model accuracy\") \n",
    "plt.xlabel(\"Epoch\") \n",
    "plt.ylabel(\"Accurary\")\n",
    "plt.plot(x,train_acc,'-',color='red',label='Train')\n",
    "plt.plot(x,test_acc,'-',color='blue',label='Val')\n",
    "plt.legend(loc='upper left', shadow=True)"
   ]
  },
  {
   "cell_type": "code",
   "execution_count": 3,
   "metadata": {},
   "outputs": [
    {
     "name": "stdout",
     "output_type": "stream",
     "text": [
      "hyperparameters:\n",
      "batch size: 8\n",
      "learning rate: 0.001\n",
      "optimizer: SGD\n"
     ]
    }
   ],
   "source": [
    "print('hyperparameters:')\n",
    "print('batch size: 8')\n",
    "print('learning rate: 0.001')\n",
    "print('optimizer: SGD')\n"
   ]
  },
  {
   "cell_type": "code",
   "execution_count": null,
   "metadata": {},
   "outputs": [],
   "source": []
  }
 ],
 "metadata": {
  "kernelspec": {
   "display_name": "Python 3",
   "language": "python",
   "name": "python3"
  },
  "language_info": {
   "codemirror_mode": {
    "name": "ipython",
    "version": 3
   },
   "file_extension": ".py",
   "mimetype": "text/x-python",
   "name": "python",
   "nbconvert_exporter": "python",
   "pygments_lexer": "ipython3",
   "version": "3.6.12"
  }
 },
 "nbformat": 4,
 "nbformat_minor": 4
}
